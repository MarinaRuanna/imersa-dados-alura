{
  "nbformat": 4,
  "nbformat_minor": 0,
  "metadata": {
    "colab": {
      "name": "ImersaoDeDadosAlura-DesafiosAula1.ipynb.ipynb",
      "provenance": [],
      "authorship_tag": "ABX9TyMx/ZzNGPc1/a3XcqS9DdnZ",
      "include_colab_link": true
    },
    "kernelspec": {
      "name": "python3",
      "display_name": "Python 3"
    },
    "language_info": {
      "name": "python"
    }
  },
  "cells": [
    {
      "cell_type": "markdown",
      "metadata": {
        "id": "view-in-github",
        "colab_type": "text"
      },
      "source": [
        "<a href=\"https://colab.research.google.com/github/MarinaRuanna/imersao-dados-alura/blob/master/ImersaoDeDadosAlura_DesafiosAula1_ipynb.ipynb\" target=\"_parent\"><img src=\"https://colab.research.google.com/assets/colab-badge.svg\" alt=\"Open In Colab\"/></a>"
      ]
    },
    {
      "cell_type": "code",
      "execution_count": null,
      "metadata": {
        "id": "IeSHN4b3A3Z3"
      },
      "outputs": [],
      "source": [
        ""
      ]
    }
  ]
}