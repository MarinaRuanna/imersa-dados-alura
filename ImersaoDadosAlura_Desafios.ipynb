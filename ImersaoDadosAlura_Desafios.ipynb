{
  "nbformat": 4,
  "nbformat_minor": 0,
  "metadata": {
    "colab": {
      "name": "ImersaoDadosAlura-Desafios.ipynb",
      "provenance": [],
      "toc_visible": true,
      "authorship_tag": "ABX9TyM9xQlmFCdW31wan0eqd8Ex",
      "include_colab_link": true
    },
    "kernelspec": {
      "name": "python3",
      "display_name": "Python 3"
    },
    "language_info": {
      "name": "python"
    }
  },
  "cells": [
    {
      "cell_type": "markdown",
      "metadata": {
        "id": "view-in-github",
        "colab_type": "text"
      },
      "source": [
        "<a href=\"https://colab.research.google.com/github/MarinaRuanna/imersao-dados-alura/blob/master/ImersaoDadosAlura_Desafios.ipynb\" target=\"_parent\"><img src=\"https://colab.research.google.com/assets/colab-badge.svg\" alt=\"Open In Colab\"/></a>"
      ]
    },
    {
      "cell_type": "markdown",
      "source": [
        "# DESAFIOS AULA 1:"
      ],
      "metadata": {
        "id": "o4b607QWw_JL"
      }
    },
    {
      "cell_type": "markdown",
      "source": [
        "#### IMPORTS E ALTERAÇÕES NECESSARIAS:"
      ],
      "metadata": {
        "id": "mBUp8pIQ-LK_"
      }
    },
    {
      "cell_type": "code",
      "source": [
        "import pandas as pd\n",
        "url = \"https://gist.githubusercontent.com/tgcsantos/3bdb29eba6ce391e90df2b72205ba891/raw/22fa920e80c9fa209a9fccc8b52d74cc95d1599b/dados_imoveis.csv\"\n",
        "dados = pd.read_csv(url)"
      ],
      "metadata": {
        "id": "PB--2nssxUhg"
      },
      "execution_count": 1,
      "outputs": []
    },
    {
      "cell_type": "markdown",
      "source": [
        "## 1 - Realizar a média da metragem para cada um dos bairros."
      ],
      "metadata": {
        "id": "EaVn1GsHxFho"
      }
    },
    {
      "cell_type": "markdown",
      "source": [
        "**Resolução:**\n",
        "\n",
        "Agrupei o nosso DataFrame 'dados' pelos valores da coluna \"bairro\" utilizando o método da biblioteca Pandas '.groupby()'. Em seguida apliquei o método da '.mean()'. \n",
        "Para obter um DataFrame apenas com os nomes dos Bairos e a media das metragens utilzei '.sort_values()'.\n",
        "Em retorno obtive um DataFrame com informação das médias agrupadas pelos valores da coluna bairros que chamei de 'media_metragem_bairros'.\n",
        "o index são os nomes dos bairros e o DataFrame esta ordenado por ordem crescente das médias das metragens.\n",
        "\n",
        "Também utilizei uma sintaxe mais simples para obter um resultado semelhante, com o index também sendo os nomes dos bairros sem determinar a ordenação. Chamei esse DataFrame de 'media_metragem_bairro_v2'. "
      ],
      "metadata": {
        "id": "1O5hRj9uxMx3"
      }
    },
    {
      "cell_type": "code",
      "source": [
        "dados.groupby(\"Bairro\")[\"Metragem\"].mean()\n",
        "media_metragem_bairro = dados.groupby(\"Bairro\").mean()[\"Metragem\"].sort_values()\n",
        "media_metragem_bairro"
      ],
      "metadata": {
        "colab": {
          "base_uri": "https://localhost:8080/"
        },
        "id": "rfjQhmLtxQ64",
        "outputId": "56318aa1-c1d4-4c76-dd90-6a623c9f0828"
      },
      "execution_count": 7,
      "outputs": [
        {
          "output_type": "execute_result",
          "data": {
            "text/plain": [
              "Bairro\n",
              "Vila Guaca                               10.000000\n",
              "Vila Leonor                              46.000000\n",
              "Jardim Benfica                           48.000000\n",
              "Jardim Nova Germania                     57.000000\n",
              "Cidade Antônio Estevão de Carvalho       57.500000\n",
              "                                          ...     \n",
              "Chácara Flora                          1260.727273\n",
              "Jardim das Camélias                    1700.000000\n",
              "Jardim Guedala                         2486.640199\n",
              "Vila Castelo                           2850.000000\n",
              "Sítio Represa                         37000.000000\n",
              "Name: Metragem, Length: 701, dtype: float64"
            ]
          },
          "metadata": {},
          "execution_count": 7
        }
      ]
    },
    {
      "cell_type": "code",
      "source": [
        "media_metragem_bairro_v2 = dados.groupby([\"Bairro\"])[\"Metragem\"].mean()\n",
        "media_metragem_bairro_v2"
      ],
      "metadata": {
        "colab": {
          "base_uri": "https://localhost:8080/"
        },
        "id": "43q9ZWa_yzil",
        "outputId": "43739fbd-293c-48e9-a95a-16dacdc160cb"
      },
      "execution_count": 5,
      "outputs": [
        {
          "output_type": "execute_result",
          "data": {
            "text/plain": [
              "Bairro\n",
              "Aclimação            253.056818\n",
              "Alto da Boa Vista    418.875000\n",
              "Alto da Lapa         294.337209\n",
              "Alto da Mooca        270.050000\n",
              "Alto de Pinheiros    433.444988\n",
              "                        ...    \n",
              "Vila Água Funda      152.200000\n",
              "Água Branca          191.000000\n",
              "Água Fria            165.416667\n",
              "Água Funda           139.000000\n",
              "Água Rasa            340.250000\n",
              "Name: Metragem, Length: 701, dtype: float64"
            ]
          },
          "metadata": {},
          "execution_count": 5
        }
      ]
    },
    {
      "cell_type": "markdown",
      "source": [
        "## 2 - Duas formas de selecionar os dados por bairro (consultar os métodos na documentação do Pandas):"
      ],
      "metadata": {
        "id": "6YfOOU7Dxn5A"
      }
    },
    {
      "cell_type": "markdown",
      "source": [
        "**Resolução**:\n",
        "\n",
        "\n",
        "Trouxe 5 formas diferentes de selecionar os dados da coluna \"Bairro\" do nosso DataFrame 'dados':"
      ],
      "metadata": {
        "id": "dw4O1KwC4nKX"
      }
    },
    {
      "cell_type": "code",
      "source": [
        "# Forma 1: \n",
        "# Chama todos os dados da coluna. \n",
        "# Sintaxe: DataFrame.Coluna\n",
        "# Exemplo:\n",
        "\n",
        "dados.Bairro"
      ],
      "metadata": {
        "colab": {
          "base_uri": "https://localhost:8080/"
        },
        "id": "CO8z-Vpm4Da_",
        "outputId": "2ac730c7-85e3-4de8-8741-b1e2cd3488ec"
      },
      "execution_count": 8,
      "outputs": [
        {
          "output_type": "execute_result",
          "data": {
            "text/plain": [
              "0         Planalto Paulista\n",
              "1        Jardim dos Estados\n",
              "2           Jardim Reimberg\n",
              "3            Jardim Morumbi\n",
              "4                     Mooca\n",
              "                ...        \n",
              "10003            Vila Sofia\n",
              "10004       Bosque da Saúde\n",
              "10005         Vila da Saúde\n",
              "10006         Vila Oratório\n",
              "10007           Vila Alpina\n",
              "Name: Bairro, Length: 10008, dtype: object"
            ]
          },
          "metadata": {},
          "execution_count": 8
        }
      ]
    },
    {
      "cell_type": "code",
      "source": [
        "# Forma 2:\n",
        "# Chama todos os dados da coluna. \n",
        "# Sintaxe: Dataframe[\"Coluna\"]\n",
        "# Eexemplo:\n",
        "\n",
        "dados[\"Bairro\"]"
      ],
      "metadata": {
        "colab": {
          "base_uri": "https://localhost:8080/"
        },
        "id": "hsHbUNVa4F60",
        "outputId": "dfa215d6-2eaa-4c61-ff26-35dfe2e24712"
      },
      "execution_count": 9,
      "outputs": [
        {
          "output_type": "execute_result",
          "data": {
            "text/plain": [
              "0         Planalto Paulista\n",
              "1        Jardim dos Estados\n",
              "2           Jardim Reimberg\n",
              "3            Jardim Morumbi\n",
              "4                     Mooca\n",
              "                ...        \n",
              "10003            Vila Sofia\n",
              "10004       Bosque da Saúde\n",
              "10005         Vila da Saúde\n",
              "10006         Vila Oratório\n",
              "10007           Vila Alpina\n",
              "Name: Bairro, Length: 10008, dtype: object"
            ]
          },
          "metadata": {},
          "execution_count": 9
        }
      ]
    },
    {
      "cell_type": "code",
      "source": [
        "# Forma 3:\n",
        "# Retorna um array com todos os valores unicos de uma coluna.\n",
        "# Sintaxe: DataFrame[\"Coluna\"].unique()   \n",
        "# Exemplo:   (Selecionei apenas os 10 primeiros)\n",
        "dados[\"Bairro\"].head(10).unique()"
      ],
      "metadata": {
        "colab": {
          "base_uri": "https://localhost:8080/"
        },
        "id": "qnMlwJ1h4Jxw",
        "outputId": "f284663c-557a-432f-eb8f-9178d56b2d51"
      },
      "execution_count": 10,
      "outputs": [
        {
          "output_type": "execute_result",
          "data": {
            "text/plain": [
              "array(['Planalto Paulista', 'Jardim dos Estados', 'Jardim Reimberg',\n",
              "       'Jardim Morumbi', 'Mooca', 'Santo Amaro', 'Cidade Mãe do Céu',\n",
              "       'Jardim Vergueiro', 'Jardim Benfica', 'Vila Alpina'], dtype=object)"
            ]
          },
          "metadata": {},
          "execution_count": 10
        }
      ]
    },
    {
      "cell_type": "code",
      "source": [
        "# Forma 4:\n",
        "# Retorna uma Series com todos os valores unicos de uma coluna.\n",
        "# Sintaxe: DataFrame[\"Coluna\"].drop_duplicates()  \n",
        "# Exemplo:  \n",
        "\n",
        "dados[\"Bairro\"].drop_duplicates()"
      ],
      "metadata": {
        "colab": {
          "base_uri": "https://localhost:8080/"
        },
        "id": "QM7XaTWb4MYS",
        "outputId": "e8ccfcb5-44bb-4c70-aa73-297ba7b218f6"
      },
      "execution_count": 11,
      "outputs": [
        {
          "output_type": "execute_result",
          "data": {
            "text/plain": [
              "0           Planalto Paulista\n",
              "1          Jardim dos Estados\n",
              "2             Jardim Reimberg\n",
              "3              Jardim Morumbi\n",
              "4                       Mooca\n",
              "                ...          \n",
              "9815         Parque São Jorge\n",
              "9843                Vila Reis\n",
              "9862       Parque das Árvores\n",
              "9920           Vila São Pedro\n",
              "9924    Jardim das Carmelitas\n",
              "Name: Bairro, Length: 702, dtype: object"
            ]
          },
          "metadata": {},
          "execution_count": 11
        }
      ]
    },
    {
      "cell_type": "code",
      "source": [
        "# Forma 5:\n",
        "# Retorna uma Series com todos os valores unicos de uma coluna. \n",
        "# Transforma a coluna selecionada em index.\n",
        "# Retorna a quantide de itens de cada valor único.\n",
        "# Ordena por ordem decrescente de quantidade de itens.\n",
        "# Sintaxe: DataFrame[\"Coluna\"].value_counts()  \n",
        "# Exemplo:  \n",
        "\n",
        "dados[\"Bairro\"].value_counts()"
      ],
      "metadata": {
        "colab": {
          "base_uri": "https://localhost:8080/"
        },
        "id": "6QhOoJJW4ODJ",
        "outputId": "12db1195-c74d-4057-845d-2253d6120b59"
      },
      "execution_count": 12,
      "outputs": [
        {
          "output_type": "execute_result",
          "data": {
            "text/plain": [
              "Alto de Pinheiros     409\n",
              "Jardim Guedala        403\n",
              "Jardim Paulista       309\n",
              "Brooklin Paulista     247\n",
              "Jardim Europa         240\n",
              "                     ... \n",
              "Jardim das Imbuias      1\n",
              "Vila Represa            1\n",
              "Vila Nancy              1\n",
              "Sítio Represa           1\n",
              "Vila Invernada          1\n",
              "Name: Bairro, Length: 701, dtype: int64"
            ]
          },
          "metadata": {},
          "execution_count": 12
        }
      ]
    },
    {
      "cell_type": "markdown",
      "source": [
        "## 5 - Descobrir quais são os bairros que não tem nome de rua. "
      ],
      "metadata": {
        "id": "VloF1EyT-Rok"
      }
    },
    {
      "cell_type": "markdown",
      "source": [
        "**Resolução:**\n",
        "\n",
        "\n",
        "Primeiro criei um DataFrame com todos os anuncios que não possuiam nomes de ruas utilizando o método 'isna()'. Com esse método é possivel verificar quais dados na coluna selecionada possuem valor 'NaN', que é um valor atribuidos a dados nulos, ausentes ou perdidos no DataFrame. \n",
        "\n",
        "Depois criei um novo DataFrame que chamei de 'bairros_sem_ruas', agora com os nomes dos Bairros sendo o index e a quantidade de anuncios em cada bairro que não possuem nomes de ruas. A ordenação é por ordem decrescente de quantidade de anuncios por bairro.\n",
        "\n",
        "Foi possivel observar que 394 bairros possuiam anuncios sem nomes de ruas.\n",
        "E o bairro que possuia mais anuncios sem nomes de ruas foi o \"Jardim Guedala\""
      ],
      "metadata": {
        "id": "nSbWRgZ0-jXI"
      }
    },
    {
      "cell_type": "code",
      "source": [
        "sem_rua = dados[dados[\"Rua\"].isna()]\n",
        "sem_rua"
      ],
      "metadata": {
        "colab": {
          "base_uri": "https://localhost:8080/",
          "height": 424
        },
        "id": "GBk4JhCo-bYw",
        "outputId": "b35b69d9-d962-430c-ddc4-3165c1acbd70"
      },
      "execution_count": 13,
      "outputs": [
        {
          "output_type": "execute_result",
          "data": {
            "text/plain": [
              "      Rua                            Bairro     Cidade  Metragem  Quartos  \\\n",
              "3     NaN                    Jardim Morumbi  São Paulo       310        3   \n",
              "11    NaN                  Jardim Luzitânia  São Paulo       436        4   \n",
              "31    NaN                    Parque da Lapa  São Paulo       220        4   \n",
              "56    NaN  Chácara Santo Antônio (Zona Sul)  São Paulo       190        2   \n",
              "57    NaN                    Jardim Guedala  São Paulo       650        4   \n",
              "...   ...                               ...        ...       ...      ...   \n",
              "9963  NaN                 Jardim Petrópolis  São Paulo       423        5   \n",
              "9989  NaN              Parque Alves de Lima  São Paulo       127        2   \n",
              "9991  NaN                      Vila Formosa  São Paulo       145        3   \n",
              "9995  NaN                     Jardim Leonor  São Paulo      1350        5   \n",
              "9999  NaN                 Jardim Petrópolis  São Paulo       423        5   \n",
              "\n",
              "      Banheiros  Vagas         Valor  \n",
              "3             2      4    R$ 685.000  \n",
              "11            3      3     R$ 15.000  \n",
              "31            4      3    R$ 849.000  \n",
              "56            2      2  R$ 1.100.000  \n",
              "57            6      4  R$ 5.500.000  \n",
              "...         ...    ...           ...  \n",
              "9963          7      6  R$ 2.800.000  \n",
              "9989          1      2    R$ 400.000  \n",
              "9991          2      3    R$ 750.000  \n",
              "9995          9      7  R$ 9.500.000  \n",
              "9999          7      6  R$ 2.800.000  \n",
              "\n",
              "[3434 rows x 8 columns]"
            ],
            "text/html": [
              "\n",
              "  <div id=\"df-c770820c-2333-4064-9f23-5ec4e012ea34\">\n",
              "    <div class=\"colab-df-container\">\n",
              "      <div>\n",
              "<style scoped>\n",
              "    .dataframe tbody tr th:only-of-type {\n",
              "        vertical-align: middle;\n",
              "    }\n",
              "\n",
              "    .dataframe tbody tr th {\n",
              "        vertical-align: top;\n",
              "    }\n",
              "\n",
              "    .dataframe thead th {\n",
              "        text-align: right;\n",
              "    }\n",
              "</style>\n",
              "<table border=\"1\" class=\"dataframe\">\n",
              "  <thead>\n",
              "    <tr style=\"text-align: right;\">\n",
              "      <th></th>\n",
              "      <th>Rua</th>\n",
              "      <th>Bairro</th>\n",
              "      <th>Cidade</th>\n",
              "      <th>Metragem</th>\n",
              "      <th>Quartos</th>\n",
              "      <th>Banheiros</th>\n",
              "      <th>Vagas</th>\n",
              "      <th>Valor</th>\n",
              "    </tr>\n",
              "  </thead>\n",
              "  <tbody>\n",
              "    <tr>\n",
              "      <th>3</th>\n",
              "      <td>NaN</td>\n",
              "      <td>Jardim Morumbi</td>\n",
              "      <td>São Paulo</td>\n",
              "      <td>310</td>\n",
              "      <td>3</td>\n",
              "      <td>2</td>\n",
              "      <td>4</td>\n",
              "      <td>R$ 685.000</td>\n",
              "    </tr>\n",
              "    <tr>\n",
              "      <th>11</th>\n",
              "      <td>NaN</td>\n",
              "      <td>Jardim Luzitânia</td>\n",
              "      <td>São Paulo</td>\n",
              "      <td>436</td>\n",
              "      <td>4</td>\n",
              "      <td>3</td>\n",
              "      <td>3</td>\n",
              "      <td>R$ 15.000</td>\n",
              "    </tr>\n",
              "    <tr>\n",
              "      <th>31</th>\n",
              "      <td>NaN</td>\n",
              "      <td>Parque da Lapa</td>\n",
              "      <td>São Paulo</td>\n",
              "      <td>220</td>\n",
              "      <td>4</td>\n",
              "      <td>4</td>\n",
              "      <td>3</td>\n",
              "      <td>R$ 849.000</td>\n",
              "    </tr>\n",
              "    <tr>\n",
              "      <th>56</th>\n",
              "      <td>NaN</td>\n",
              "      <td>Chácara Santo Antônio (Zona Sul)</td>\n",
              "      <td>São Paulo</td>\n",
              "      <td>190</td>\n",
              "      <td>2</td>\n",
              "      <td>2</td>\n",
              "      <td>2</td>\n",
              "      <td>R$ 1.100.000</td>\n",
              "    </tr>\n",
              "    <tr>\n",
              "      <th>57</th>\n",
              "      <td>NaN</td>\n",
              "      <td>Jardim Guedala</td>\n",
              "      <td>São Paulo</td>\n",
              "      <td>650</td>\n",
              "      <td>4</td>\n",
              "      <td>6</td>\n",
              "      <td>4</td>\n",
              "      <td>R$ 5.500.000</td>\n",
              "    </tr>\n",
              "    <tr>\n",
              "      <th>...</th>\n",
              "      <td>...</td>\n",
              "      <td>...</td>\n",
              "      <td>...</td>\n",
              "      <td>...</td>\n",
              "      <td>...</td>\n",
              "      <td>...</td>\n",
              "      <td>...</td>\n",
              "      <td>...</td>\n",
              "    </tr>\n",
              "    <tr>\n",
              "      <th>9963</th>\n",
              "      <td>NaN</td>\n",
              "      <td>Jardim Petrópolis</td>\n",
              "      <td>São Paulo</td>\n",
              "      <td>423</td>\n",
              "      <td>5</td>\n",
              "      <td>7</td>\n",
              "      <td>6</td>\n",
              "      <td>R$ 2.800.000</td>\n",
              "    </tr>\n",
              "    <tr>\n",
              "      <th>9989</th>\n",
              "      <td>NaN</td>\n",
              "      <td>Parque Alves de Lima</td>\n",
              "      <td>São Paulo</td>\n",
              "      <td>127</td>\n",
              "      <td>2</td>\n",
              "      <td>1</td>\n",
              "      <td>2</td>\n",
              "      <td>R$ 400.000</td>\n",
              "    </tr>\n",
              "    <tr>\n",
              "      <th>9991</th>\n",
              "      <td>NaN</td>\n",
              "      <td>Vila Formosa</td>\n",
              "      <td>São Paulo</td>\n",
              "      <td>145</td>\n",
              "      <td>3</td>\n",
              "      <td>2</td>\n",
              "      <td>3</td>\n",
              "      <td>R$ 750.000</td>\n",
              "    </tr>\n",
              "    <tr>\n",
              "      <th>9995</th>\n",
              "      <td>NaN</td>\n",
              "      <td>Jardim Leonor</td>\n",
              "      <td>São Paulo</td>\n",
              "      <td>1350</td>\n",
              "      <td>5</td>\n",
              "      <td>9</td>\n",
              "      <td>7</td>\n",
              "      <td>R$ 9.500.000</td>\n",
              "    </tr>\n",
              "    <tr>\n",
              "      <th>9999</th>\n",
              "      <td>NaN</td>\n",
              "      <td>Jardim Petrópolis</td>\n",
              "      <td>São Paulo</td>\n",
              "      <td>423</td>\n",
              "      <td>5</td>\n",
              "      <td>7</td>\n",
              "      <td>6</td>\n",
              "      <td>R$ 2.800.000</td>\n",
              "    </tr>\n",
              "  </tbody>\n",
              "</table>\n",
              "<p>3434 rows × 8 columns</p>\n",
              "</div>\n",
              "      <button class=\"colab-df-convert\" onclick=\"convertToInteractive('df-c770820c-2333-4064-9f23-5ec4e012ea34')\"\n",
              "              title=\"Convert this dataframe to an interactive table.\"\n",
              "              style=\"display:none;\">\n",
              "        \n",
              "  <svg xmlns=\"http://www.w3.org/2000/svg\" height=\"24px\"viewBox=\"0 0 24 24\"\n",
              "       width=\"24px\">\n",
              "    <path d=\"M0 0h24v24H0V0z\" fill=\"none\"/>\n",
              "    <path d=\"M18.56 5.44l.94 2.06.94-2.06 2.06-.94-2.06-.94-.94-2.06-.94 2.06-2.06.94zm-11 1L8.5 8.5l.94-2.06 2.06-.94-2.06-.94L8.5 2.5l-.94 2.06-2.06.94zm10 10l.94 2.06.94-2.06 2.06-.94-2.06-.94-.94-2.06-.94 2.06-2.06.94z\"/><path d=\"M17.41 7.96l-1.37-1.37c-.4-.4-.92-.59-1.43-.59-.52 0-1.04.2-1.43.59L10.3 9.45l-7.72 7.72c-.78.78-.78 2.05 0 2.83L4 21.41c.39.39.9.59 1.41.59.51 0 1.02-.2 1.41-.59l7.78-7.78 2.81-2.81c.8-.78.8-2.07 0-2.86zM5.41 20L4 18.59l7.72-7.72 1.47 1.35L5.41 20z\"/>\n",
              "  </svg>\n",
              "      </button>\n",
              "      \n",
              "  <style>\n",
              "    .colab-df-container {\n",
              "      display:flex;\n",
              "      flex-wrap:wrap;\n",
              "      gap: 12px;\n",
              "    }\n",
              "\n",
              "    .colab-df-convert {\n",
              "      background-color: #E8F0FE;\n",
              "      border: none;\n",
              "      border-radius: 50%;\n",
              "      cursor: pointer;\n",
              "      display: none;\n",
              "      fill: #1967D2;\n",
              "      height: 32px;\n",
              "      padding: 0 0 0 0;\n",
              "      width: 32px;\n",
              "    }\n",
              "\n",
              "    .colab-df-convert:hover {\n",
              "      background-color: #E2EBFA;\n",
              "      box-shadow: 0px 1px 2px rgba(60, 64, 67, 0.3), 0px 1px 3px 1px rgba(60, 64, 67, 0.15);\n",
              "      fill: #174EA6;\n",
              "    }\n",
              "\n",
              "    [theme=dark] .colab-df-convert {\n",
              "      background-color: #3B4455;\n",
              "      fill: #D2E3FC;\n",
              "    }\n",
              "\n",
              "    [theme=dark] .colab-df-convert:hover {\n",
              "      background-color: #434B5C;\n",
              "      box-shadow: 0px 1px 3px 1px rgba(0, 0, 0, 0.15);\n",
              "      filter: drop-shadow(0px 1px 2px rgba(0, 0, 0, 0.3));\n",
              "      fill: #FFFFFF;\n",
              "    }\n",
              "  </style>\n",
              "\n",
              "      <script>\n",
              "        const buttonEl =\n",
              "          document.querySelector('#df-c770820c-2333-4064-9f23-5ec4e012ea34 button.colab-df-convert');\n",
              "        buttonEl.style.display =\n",
              "          google.colab.kernel.accessAllowed ? 'block' : 'none';\n",
              "\n",
              "        async function convertToInteractive(key) {\n",
              "          const element = document.querySelector('#df-c770820c-2333-4064-9f23-5ec4e012ea34');\n",
              "          const dataTable =\n",
              "            await google.colab.kernel.invokeFunction('convertToInteractive',\n",
              "                                                     [key], {});\n",
              "          if (!dataTable) return;\n",
              "\n",
              "          const docLinkHtml = 'Like what you see? Visit the ' +\n",
              "            '<a target=\"_blank\" href=https://colab.research.google.com/notebooks/data_table.ipynb>data table notebook</a>'\n",
              "            + ' to learn more about interactive tables.';\n",
              "          element.innerHTML = '';\n",
              "          dataTable['output_type'] = 'display_data';\n",
              "          await google.colab.output.renderOutput(dataTable, element);\n",
              "          const docLink = document.createElement('div');\n",
              "          docLink.innerHTML = docLinkHtml;\n",
              "          element.appendChild(docLink);\n",
              "        }\n",
              "      </script>\n",
              "    </div>\n",
              "  </div>\n",
              "  "
            ]
          },
          "metadata": {},
          "execution_count": 13
        }
      ]
    },
    {
      "cell_type": "code",
      "source": [
        "bairros_sem_ruas = sem_rua[\"Bairro\"].value_counts()\n",
        "bairros_sem_ruas"
      ],
      "metadata": {
        "colab": {
          "base_uri": "https://localhost:8080/"
        },
        "id": "L3Yi9jKI-hlQ",
        "outputId": "ca51818f-56e3-4b4e-e51a-e9ac2935425c"
      },
      "execution_count": 14,
      "outputs": [
        {
          "output_type": "execute_result",
          "data": {
            "text/plain": [
              "Jardim Guedala                      190\n",
              "Alto de Pinheiros                   169\n",
              "Jardim Paulista                     138\n",
              "Jardim Europa                       128\n",
              "Jardim Leonor                       118\n",
              "                                   ... \n",
              "Jardim do Colégio (Zona Norte)        1\n",
              "Alto da Boa Vista                     1\n",
              "Jardim Aeroporto                      1\n",
              "Conjunto Residencial Vista Verde      1\n",
              "Jardim Santo Elias                    1\n",
              "Name: Bairro, Length: 394, dtype: int64"
            ]
          },
          "metadata": {},
          "execution_count": 14
        }
      ]
    }
  ]
}